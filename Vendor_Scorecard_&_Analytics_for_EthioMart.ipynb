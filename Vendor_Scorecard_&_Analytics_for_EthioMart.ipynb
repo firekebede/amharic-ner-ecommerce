{
  "nbformat": 4,
  "nbformat_minor": 0,
  "metadata": {
    "colab": {
      "provenance": []
    },
    "kernelspec": {
      "name": "python3",
      "display_name": "Python 3"
    },
    "language_info": {
      "name": "python"
    }
  },
  "cells": [
    {
      "cell_type": "code",
      "execution_count": null,
      "metadata": {
        "id": "a1iMdPDYyz3z"
      },
      "outputs": [],
      "source": [
        "# Notebook 6: Vendor Scorecard & Analytics for EthioMart\n",
        "# ======================================================\n",
        "\n",
        "# Install required packages\n",
        "!pip install pandas numpy\n",
        "\n",
        "import pandas as pd\n",
        "import numpy as np\n",
        "\n",
        "# ==============================\n",
        "# 1. Load Scraped Telegram Data\n",
        "# ==============================\n",
        "# Example structure: each row is a Telegram message with metadata\n",
        "# Columns: ['channel', 'message', 'views', 'timestamp', 'product', 'price', 'location']\n",
        "data = pd.read_csv(\"data/processed/telegram_messages_with_entities.csv\")\n",
        "\n",
        "# ==============================\n",
        "# 2. Compute Vendor Metrics\n",
        "# ==============================\n",
        "vendor_summary = []\n",
        "\n",
        "for vendor, group in data.groupby(\"channel\"):\n",
        "    # Activity & Consistency\n",
        "    posts_per_week = group.shape[0] / ((group['timestamp'].max() - group['timestamp'].min()).days / 7)\n",
        "\n",
        "    # Market Reach & Engagement\n",
        "    avg_views = group['views'].mean()\n",
        "    top_post_idx = group['views'].idxmax()\n",
        "    top_post = group.loc[top_post_idx]\n",
        "\n",
        "    # Business Profile\n",
        "    avg_price = group['price'].mean()\n",
        "\n",
        "    # Simple Lending Score\n",
        "    lending_score = (avg_views * 0.5) + (posts_per_week * 0.5)\n",
        "\n",
        "    vendor_summary.append({\n",
        "        \"Vendor\": vendor,\n",
        "        \"Posts/Week\": round(posts_per_week, 2),\n",
        "        \"Avg. Views/Post\": round(avg_views, 2),\n",
        "        \"Top Post Product\": top_post['product'],\n",
        "        \"Top Post Price\": top_post['price'],\n",
        "        \"Avg. Price (ETB)\": round(avg_price, 2),\n",
        "        \"Lending Score\": round(lending_score, 2)\n",
        "    })\n",
        "\n",
        "vendor_df = pd.DataFrame(vendor_summary)\n",
        "vendor_df = vendor_df.sort_values(by=\"Lending Score\", ascending=False)\n",
        "\n",
        "# ==============================\n",
        "# 3. Display Vendor Scorecard\n",
        "# ==============================\n",
        "print(\"Vendor Scorecard:\")\n",
        "print(vendor_df)\n",
        "\n",
        "# ==============================\n",
        "# 4. Save Scorecard\n",
        "# ==============================\n",
        "vendor_df.to_csv(\"data/vendor_scorecard.csv\", index=False)\n"
      ]
    }
  ]
}