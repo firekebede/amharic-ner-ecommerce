{
  "nbformat": 4,
  "nbformat_minor": 0,
  "metadata": {
    "colab": {
      "provenance": []
    },
    "kernelspec": {
      "name": "python3",
      "display_name": "Python 3"
    },
    "language_info": {
      "name": "python"
    }
  },
  "cells": [
    {
      "cell_type": "code",
      "execution_count": null,
      "metadata": {
        "id": "GwJdXc6qxLKb"
      },
      "outputs": [],
      "source": [
        "# Notebook 2: Data Labeling (CoNLL Format)\n",
        "# ========================================\n",
        "\n",
        "# Install necessary packages\n",
        "!pip install pandas\n",
        "\n",
        "import pandas as pd\n",
        "import os\n",
        "\n",
        "# ==============================\n",
        "# 1. Load Processed Data\n",
        "# ==============================\n",
        "df = pd.read_csv(\"data/processed/messages_snapshot.csv\")\n",
        "print(f\"Total messages: {len(df)}\")\n",
        "print(df.head(5))\n",
        "\n",
        "# ==============================\n",
        "# 2. Sample Messages for Labeling\n",
        "# ==============================\n",
        "# You can label at least 30-50 messages manually for initial training\n",
        "sample_messages = df[\"clean_text\"].sample(50, random_state=42).tolist()\n",
        "\n",
        "# ==============================\n",
        "# 3. CoNLL Format Template\n",
        "# ==============================\n",
        "# Example entity types:\n",
        "# B-Product, I-Product, B-LOC, I-LOC, B-PRICE, I-PRICE, O\n",
        "\n",
        "def generate_conll(message, entities={}):\n",
        "    \"\"\"\n",
        "    Convert a message to CoNLL format.\n",
        "    entities: dict {token_index: label} e.g., {0: \"B-Product\", 1: \"I-Product\"}\n",
        "    \"\"\"\n",
        "    tokens = message.split()\n",
        "    conll_lines = []\n",
        "    for idx, token in enumerate(tokens):\n",
        "        label = entities.get(idx, \"O\")\n",
        "        conll_lines.append(f\"{token} {label}\")\n",
        "    conll_lines.append(\"\")  # blank line to separate messages\n",
        "    return \"\\n\".join(conll_lines)\n",
        "\n",
        "# ==============================\n",
        "# 4. Example Manual Labeling\n",
        "# ==============================\n",
        "# Example message: \"ሙሉ ቁርስ በ200 ብር በአዲስ አበባ\"\n",
        "message = \"ሙሉ ቁርስ በ200 ብር በአዲስ አበባ\"\n",
        "# Token index mapping for labels\n",
        "entities = {0: \"B-Product\", 1: \"I-Product\", 3: \"B-PRICE\", 4: \"I-PRICE\", 6: \"B-LOC\", 7: \"I-LOC\"}\n",
        "\n",
        "conll_output = generate_conll(message, entities)\n",
        "print(conll_output)\n",
        "\n",
        "# ==============================\n",
        "# 5. Export Labeled Messages to CoNLL File\n",
        "# ==============================\n",
        "os.makedirs(\"data/labeled\", exist_ok=True)\n",
        "with open(\"data/labeled/ner_train.conll\", \"w\", encoding=\"utf-8\") as f:\n",
        "    for msg in sample_messages:\n",
        "        # Initially label everything as \"O\" (to be corrected manually)\n",
        "        f.write(generate_conll(msg))\n"
      ]
    }
  ]
}